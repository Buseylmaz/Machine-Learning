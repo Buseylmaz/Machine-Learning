{
 "cells": [
  {
   "cell_type": "markdown",
   "id": "74d8da9b-d063-47e2-9eae-26a1aa9fefb7",
   "metadata": {},
   "source": [
    "**Alt arrayde degişiklik yaptıgımızda ana arrayda degişiklik olmamasını için**"
   ]
  },
  {
   "cell_type": "code",
   "execution_count": 1,
   "id": "115766f5-8087-4a47-aa9b-455f4a931333",
   "metadata": {},
   "outputs": [],
   "source": [
    "import numpy as np"
   ]
  },
  {
   "cell_type": "code",
   "execution_count": 3,
   "id": "21b8d9e7-2ab1-4df3-bb55-36b401aa5524",
   "metadata": {},
   "outputs": [
    {
     "data": {
      "text/plain": [
       "array([[0, 6, 8, 6, 5],\n",
       "       [1, 0, 9, 9, 6],\n",
       "       [9, 5, 2, 6, 5]])"
      ]
     },
     "execution_count": 3,
     "metadata": {},
     "output_type": "execute_result"
    }
   ],
   "source": [
    "a=np.random.randint(10,size=(3,5))\n",
    "a"
   ]
  },
  {
   "cell_type": "code",
   "execution_count": 6,
   "id": "cd021a3f-9dd7-4428-8ecb-eb9cdd91faa9",
   "metadata": {},
   "outputs": [],
   "source": [
    "alt_array=a[0:2,0:3].copy()"
   ]
  },
  {
   "cell_type": "code",
   "execution_count": 7,
   "id": "b2b4592d-3409-4ae5-bdff-57f436fab404",
   "metadata": {},
   "outputs": [
    {
     "data": {
      "text/plain": [
       "array([[0, 6, 8],\n",
       "       [1, 0, 9]])"
      ]
     },
     "execution_count": 7,
     "metadata": {},
     "output_type": "execute_result"
    }
   ],
   "source": [
    "alt_array"
   ]
  },
  {
   "cell_type": "code",
   "execution_count": 10,
   "id": "e023b06e-7ed2-466b-92c2-ee39845727d0",
   "metadata": {},
   "outputs": [],
   "source": [
    "alt_array[0,0]=4"
   ]
  },
  {
   "cell_type": "code",
   "execution_count": 11,
   "id": "4c612582-96b2-4ce1-bf9c-0862df0a3250",
   "metadata": {},
   "outputs": [
    {
     "data": {
      "text/plain": [
       "array([[4, 6, 8],\n",
       "       [1, 0, 9]])"
      ]
     },
     "execution_count": 11,
     "metadata": {},
     "output_type": "execute_result"
    }
   ],
   "source": [
    "alt_array"
   ]
  },
  {
   "cell_type": "code",
   "execution_count": 12,
   "id": "7265bad8-9cfc-48b4-88f0-dee947bc9ef4",
   "metadata": {},
   "outputs": [
    {
     "data": {
      "text/plain": [
       "array([[0, 6, 8, 6, 5],\n",
       "       [1, 0, 9, 9, 6],\n",
       "       [9, 5, 2, 6, 5]])"
      ]
     },
     "execution_count": 12,
     "metadata": {},
     "output_type": "execute_result"
    }
   ],
   "source": [
    "a"
   ]
  },
  {
   "cell_type": "code",
   "execution_count": null,
   "id": "92084c78-af3f-4b27-8b2b-1f676e40bfa8",
   "metadata": {},
   "outputs": [],
   "source": []
  }
 ],
 "metadata": {
  "kernelspec": {
   "display_name": "Python 3 (ipykernel)",
   "language": "python",
   "name": "python3"
  },
  "language_info": {
   "codemirror_mode": {
    "name": "ipython",
    "version": 3
   },
   "file_extension": ".py",
   "mimetype": "text/x-python",
   "name": "python",
   "nbconvert_exporter": "python",
   "pygments_lexer": "ipython3",
   "version": "3.9.12"
  }
 },
 "nbformat": 4,
 "nbformat_minor": 5
}
