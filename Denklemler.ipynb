{
 "cells": [
  {
   "cell_type": "code",
   "execution_count": 1,
   "id": "80aac64f-5767-4c47-86e0-8dd39a130527",
   "metadata": {},
   "outputs": [],
   "source": [
    "import numpy as np"
   ]
  },
  {
   "cell_type": "markdown",
   "id": "41690ab3-fe8e-4233-ad70-556b10b02a31",
   "metadata": {},
   "source": [
    "5*x0 + x1=12\n",
    "\n",
    "x0 + 3*x1=10"
   ]
  },
  {
   "cell_type": "code",
   "execution_count": 9,
   "id": "75b8e931-0249-470a-ad2f-70162b2103eb",
   "metadata": {},
   "outputs": [],
   "source": [
    "a=np.array([[5,1], [1,3]]) #Katsayıları yazdık\n",
    "b=np.array([12,10]) #Sonuçları yazdık"
   ]
  },
  {
   "cell_type": "code",
   "execution_count": 5,
   "id": "8fd8b2c6-00ae-4f38-a951-b4fa6301a85c",
   "metadata": {},
   "outputs": [
    {
     "data": {
      "text/plain": [
       "array([[5, 1],\n",
       "       [1, 3]])"
      ]
     },
     "execution_count": 5,
     "metadata": {},
     "output_type": "execute_result"
    }
   ],
   "source": [
    "a"
   ]
  },
  {
   "cell_type": "code",
   "execution_count": 6,
   "id": "b7d7b638-58fb-465f-aff0-869f110aa37b",
   "metadata": {},
   "outputs": [
    {
     "data": {
      "text/plain": [
       "array([12, 10])"
      ]
     },
     "execution_count": 6,
     "metadata": {},
     "output_type": "execute_result"
    }
   ],
   "source": [
    "b"
   ]
  },
  {
   "cell_type": "code",
   "execution_count": 10,
   "id": "18fc77a2-e9f3-4690-b03b-65e73ee1d06e",
   "metadata": {},
   "outputs": [
    {
     "data": {
      "text/plain": [
       "array([1.85714286, 2.71428571])"
      ]
     },
     "execution_count": 10,
     "metadata": {},
     "output_type": "execute_result"
    }
   ],
   "source": [
    "cöz=np.linalg.solve(a,b) #linalg.solve çözdü\n",
    "cöz"
   ]
  },
  {
   "cell_type": "code",
   "execution_count": null,
   "id": "53581b27-97e3-44d4-91b0-5257dd48c63e",
   "metadata": {},
   "outputs": [],
   "source": []
  }
 ],
 "metadata": {
  "kernelspec": {
   "display_name": "Python 3 (ipykernel)",
   "language": "python",
   "name": "python3"
  },
  "language_info": {
   "codemirror_mode": {
    "name": "ipython",
    "version": 3
   },
   "file_extension": ".py",
   "mimetype": "text/x-python",
   "name": "python",
   "nbconvert_exporter": "python",
   "pygments_lexer": "ipython3",
   "version": "3.9.12"
  }
 },
 "nbformat": 4,
 "nbformat_minor": 5
}
