{
 "cells": [
  {
   "cell_type": "markdown",
   "id": "0eaf3593-c4cb-471c-b2f0-b27a2a09612d",
   "metadata": {},
   "source": [
    "**NEDEN NUMPY?**"
   ]
  },
  {
   "cell_type": "code",
   "execution_count": 33,
   "id": "6cd67ac3-1439-41b2-9453-33eb2e4bb616",
   "metadata": {},
   "outputs": [],
   "source": [
    "import numpy as np\n",
    "from functools import reduce"
   ]
  },
  {
   "cell_type": "code",
   "execution_count": 36,
   "id": "681e7553-6e80-430a-beee-f08d49d3470c",
   "metadata": {},
   "outputs": [],
   "source": [
    "a=[5,6,7]\n",
    "b=[8,9,10]"
   ]
  },
  {
   "cell_type": "code",
   "execution_count": 37,
   "id": "2976f394-94b9-4b49-8589-2b930be7ed42",
   "metadata": {
    "tags": []
   },
   "outputs": [
    {
     "data": {
      "text/plain": [
       "[40, 54, 70]"
      ]
     },
     "execution_count": 37,
     "metadata": {},
     "output_type": "execute_result"
    }
   ],
   "source": [
    "ab=[]\n",
    "\n",
    "for i in range(0,len(a)):\n",
    "    ab.append(a[i]*b[i])\n",
    "\n",
    "ab"
   ]
  },
  {
   "cell_type": "code",
   "execution_count": 34,
   "id": "3a228b8d-8aab-4559-91e1-e0d03e912bb7",
   "metadata": {},
   "outputs": [],
   "source": [
    "x=np.array([5,6,7])\n",
    "y=np.array([8,9,10])"
   ]
  },
  {
   "cell_type": "code",
   "execution_count": 35,
   "id": "17bbe8e0-657d-4c02-b403-7d8e1a7ded01",
   "metadata": {},
   "outputs": [
    {
     "data": {
      "text/plain": [
       "array([40, 54, 70])"
      ]
     },
     "execution_count": 35,
     "metadata": {},
     "output_type": "execute_result"
    }
   ],
   "source": [
    "x*y"
   ]
  },
  {
   "cell_type": "code",
   "execution_count": null,
   "id": "09bdf7ec-aabf-4a19-956d-9a91802b1759",
   "metadata": {},
   "outputs": [],
   "source": []
  }
 ],
 "metadata": {
  "kernelspec": {
   "display_name": "Python 3 (ipykernel)",
   "language": "python",
   "name": "python3"
  },
  "language_info": {
   "codemirror_mode": {
    "name": "ipython",
    "version": 3
   },
   "file_extension": ".py",
   "mimetype": "text/x-python",
   "name": "python",
   "nbconvert_exporter": "python",
   "pygments_lexer": "ipython3",
   "version": "3.9.12"
  }
 },
 "nbformat": 4,
 "nbformat_minor": 5
}
