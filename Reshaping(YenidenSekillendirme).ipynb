{
 "cells": [
  {
   "cell_type": "markdown",
   "id": "c904069c-33cb-41d0-86ee-69d99be90c17",
   "metadata": {},
   "source": [
    "**Bazen tek boyuttan çok boyuta bazen çok boyuttan tek boyuta çevirmemiz gerekebiliyor. Bunun için ihtiyaç.**"
   ]
  },
  {
   "cell_type": "code",
   "execution_count": 1,
   "id": "ff916913-d891-4e0c-9be3-6c93e5c6d6f9",
   "metadata": {},
   "outputs": [],
   "source": [
    "import numpy as np"
   ]
  },
  {
   "cell_type": "code",
   "execution_count": 11,
   "id": "2d4a7692-917e-4d79-a658-7e04fa318baf",
   "metadata": {},
   "outputs": [
    {
     "data": {
      "text/plain": [
       "array([1, 2, 3, 4, 5, 6, 7, 8, 9])"
      ]
     },
     "execution_count": 11,
     "metadata": {},
     "output_type": "execute_result"
    }
   ],
   "source": [
    "a=np.arange(1,10)\n",
    "a"
   ]
  },
  {
   "cell_type": "code",
   "execution_count": 12,
   "id": "4da7ec86-0f91-401b-a356-94d1a5fa5dcf",
   "metadata": {},
   "outputs": [
    {
     "data": {
      "text/plain": [
       "array([[1, 2, 3],\n",
       "       [4, 5, 6],\n",
       "       [7, 8, 9]])"
      ]
     },
     "execution_count": 12,
     "metadata": {},
     "output_type": "execute_result"
    }
   ],
   "source": [
    "a.reshape((3,3))"
   ]
  },
  {
   "cell_type": "code",
   "execution_count": 22,
   "id": "b87e92af-7571-42f3-a7f4-3bc23780351e",
   "metadata": {},
   "outputs": [
    {
     "data": {
      "text/plain": [
       "array([1, 2, 3, 4, 5, 6, 7, 8, 9])"
      ]
     },
     "execution_count": 22,
     "metadata": {},
     "output_type": "execute_result"
    }
   ],
   "source": [
    "b=np.arange(1,10) #Boyut 2 çıktı.Mantris oldu\n",
    "b"
   ]
  },
  {
   "cell_type": "code",
   "execution_count": 20,
   "id": "fdc6cf26-f500-4515-9c6a-fc3bcf6d6e9c",
   "metadata": {},
   "outputs": [],
   "source": [
    "c=b.reshape((1,9))"
   ]
  },
  {
   "cell_type": "code",
   "execution_count": 21,
   "id": "827cfb03-707c-4bd8-b5a2-a348c986c57a",
   "metadata": {},
   "outputs": [
    {
     "data": {
      "text/plain": [
       "2"
      ]
     },
     "execution_count": 21,
     "metadata": {},
     "output_type": "execute_result"
    }
   ],
   "source": [
    "c.ndim"
   ]
  },
  {
   "cell_type": "code",
   "execution_count": null,
   "id": "ece00a3b-d640-4ab4-99ee-35c85928327e",
   "metadata": {},
   "outputs": [],
   "source": []
  }
 ],
 "metadata": {
  "kernelspec": {
   "display_name": "Python 3 (ipykernel)",
   "language": "python",
   "name": "python3"
  },
  "language_info": {
   "codemirror_mode": {
    "name": "ipython",
    "version": 3
   },
   "file_extension": ".py",
   "mimetype": "text/x-python",
   "name": "python",
   "nbconvert_exporter": "python",
   "pygments_lexer": "ipython3",
   "version": "3.9.12"
  }
 },
 "nbformat": 4,
 "nbformat_minor": 5
}
