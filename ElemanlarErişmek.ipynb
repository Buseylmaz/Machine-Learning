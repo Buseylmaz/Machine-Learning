{
 "cells": [
  {
   "cell_type": "code",
   "execution_count": 1,
   "id": "5871e7fe-fa2c-4bd0-8569-83dfc92b2e56",
   "metadata": {},
   "outputs": [],
   "source": [
    "import numpy as np"
   ]
  },
  {
   "cell_type": "code",
   "execution_count": 3,
   "id": "53481c73-c9c3-449c-a65f-a98895bafea5",
   "metadata": {},
   "outputs": [
    {
     "data": {
      "text/plain": [
       "array([7, 0, 9, 0, 0, 5, 4, 4, 8, 9, 1, 2])"
      ]
     },
     "execution_count": 3,
     "metadata": {},
     "output_type": "execute_result"
    }
   ],
   "source": [
    "a=np.random.randint(10,size=12)\n",
    "a"
   ]
  },
  {
   "cell_type": "code",
   "execution_count": 4,
   "id": "64a0fad1-d9b4-4722-bdbe-bad859060100",
   "metadata": {},
   "outputs": [
    {
     "data": {
      "text/plain": [
       "9"
      ]
     },
     "execution_count": 4,
     "metadata": {},
     "output_type": "execute_result"
    }
   ],
   "source": [
    "a[2]"
   ]
  },
  {
   "cell_type": "code",
   "execution_count": 5,
   "id": "8a6a87fc-13c7-4052-83c3-eaef90358717",
   "metadata": {},
   "outputs": [
    {
     "data": {
      "text/plain": [
       "1"
      ]
     },
     "execution_count": 5,
     "metadata": {},
     "output_type": "execute_result"
    }
   ],
   "source": [
    "a[-2]"
   ]
  },
  {
   "cell_type": "code",
   "execution_count": 6,
   "id": "ca302ed7-0b2c-41ae-b69f-a8ab1f963887",
   "metadata": {},
   "outputs": [],
   "source": [
    "a[0]=25"
   ]
  },
  {
   "cell_type": "code",
   "execution_count": 7,
   "id": "aea0934f-f4d5-445c-abfd-00fddede91e8",
   "metadata": {},
   "outputs": [
    {
     "data": {
      "text/plain": [
       "array([25,  0,  9,  0,  0,  5,  4,  4,  8,  9,  1,  2])"
      ]
     },
     "execution_count": 7,
     "metadata": {},
     "output_type": "execute_result"
    }
   ],
   "source": [
    "a"
   ]
  },
  {
   "cell_type": "markdown",
   "id": "041356b2-68ff-430d-9d9f-002afe068c78",
   "metadata": {},
   "source": [
    "**İki Boyutlu**"
   ]
  },
  {
   "cell_type": "code",
   "execution_count": 14,
   "id": "d7585818-6d39-4cbd-ace0-e30698a0c5c2",
   "metadata": {},
   "outputs": [
    {
     "data": {
      "text/plain": [
       "array([[1, 0, 3],\n",
       "       [3, 5, 3],\n",
       "       [1, 3, 0],\n",
       "       [3, 4, 6],\n",
       "       [0, 1, 7],\n",
       "       [3, 2, 2],\n",
       "       [0, 4, 8]])"
      ]
     },
     "execution_count": 14,
     "metadata": {},
     "output_type": "execute_result"
    }
   ],
   "source": [
    "b=np.random.randint(9,size=(7,3))\n",
    "b"
   ]
  },
  {
   "cell_type": "code",
   "execution_count": 15,
   "id": "f87d85ec-2724-4efd-92b2-a1889f23e006",
   "metadata": {},
   "outputs": [
    {
     "data": {
      "text/plain": [
       "1"
      ]
     },
     "execution_count": 15,
     "metadata": {},
     "output_type": "execute_result"
    }
   ],
   "source": [
    "b[0,0]"
   ]
  },
  {
   "cell_type": "code",
   "execution_count": 16,
   "id": "f9a1040a-4c83-463d-86e2-80a604be82f7",
   "metadata": {},
   "outputs": [
    {
     "data": {
      "text/plain": [
       "1"
      ]
     },
     "execution_count": 16,
     "metadata": {},
     "output_type": "execute_result"
    }
   ],
   "source": [
    "b[2,0]"
   ]
  },
  {
   "cell_type": "code",
   "execution_count": 17,
   "id": "f8f9a6f9-6669-4183-8820-c6e5a5a3989e",
   "metadata": {},
   "outputs": [
    {
     "data": {
      "text/plain": [
       "6"
      ]
     },
     "execution_count": 17,
     "metadata": {},
     "output_type": "execute_result"
    }
   ],
   "source": [
    "b[3,2]"
   ]
  },
  {
   "cell_type": "code",
   "execution_count": 18,
   "id": "c34d7615-0fe2-4882-84f4-27cc510fad94",
   "metadata": {},
   "outputs": [],
   "source": [
    "b[3,2]=5"
   ]
  },
  {
   "cell_type": "code",
   "execution_count": 19,
   "id": "23113f22-e7bd-4e26-968c-5e2b2b05c004",
   "metadata": {},
   "outputs": [
    {
     "data": {
      "text/plain": [
       "array([[1, 0, 3],\n",
       "       [3, 5, 3],\n",
       "       [1, 3, 0],\n",
       "       [3, 4, 5],\n",
       "       [0, 1, 7],\n",
       "       [3, 2, 2],\n",
       "       [0, 4, 8]])"
      ]
     },
     "execution_count": 19,
     "metadata": {},
     "output_type": "execute_result"
    }
   ],
   "source": [
    "b"
   ]
  },
  {
   "cell_type": "code",
   "execution_count": 21,
   "id": "1b959704-eb80-48d5-bfdf-c31b7add34ef",
   "metadata": {},
   "outputs": [],
   "source": [
    "b[2,0]=4.5"
   ]
  },
  {
   "cell_type": "code",
   "execution_count": 22,
   "id": "ff5df8f2-7ac9-430c-a268-3528698d853f",
   "metadata": {},
   "outputs": [
    {
     "data": {
      "text/plain": [
       "array([[1, 0, 3],\n",
       "       [3, 5, 3],\n",
       "       [4, 3, 0],\n",
       "       [3, 4, 5],\n",
       "       [0, 1, 7],\n",
       "       [3, 2, 2],\n",
       "       [0, 4, 8]])"
      ]
     },
     "execution_count": 22,
     "metadata": {},
     "output_type": "execute_result"
    }
   ],
   "source": [
    "b"
   ]
  },
  {
   "cell_type": "code",
   "execution_count": null,
   "id": "43d7f726-c65a-48bf-aab5-3f8c27f9d624",
   "metadata": {},
   "outputs": [],
   "source": []
  }
 ],
 "metadata": {
  "kernelspec": {
   "display_name": "Python 3 (ipykernel)",
   "language": "python",
   "name": "python3"
  },
  "language_info": {
   "codemirror_mode": {
    "name": "ipython",
    "version": 3
   },
   "file_extension": ".py",
   "mimetype": "text/x-python",
   "name": "python",
   "nbconvert_exporter": "python",
   "pygments_lexer": "ipython3",
   "version": "3.9.12"
  }
 },
 "nbformat": 4,
 "nbformat_minor": 5
}
