{
 "cells": [
  {
   "cell_type": "code",
   "execution_count": 1,
   "id": "d6608f87-9e68-4426-b405-e59158ffba67",
   "metadata": {},
   "outputs": [],
   "source": [
    "import pandas as pd"
   ]
  },
  {
   "cell_type": "code",
   "execution_count": 5,
   "id": "948da486-bce9-452a-93e2-893bc07e1104",
   "metadata": {},
   "outputs": [
    {
     "data": {
      "text/plain": [
       "0    1\n",
       "1    2\n",
       "2    3\n",
       "3    4\n",
       "4    5\n",
       "dtype: int64"
      ]
     },
     "execution_count": 5,
     "metadata": {},
     "output_type": "execute_result"
    }
   ],
   "source": [
    "seri=pd.Series([1,2,3,4,5])\n",
    "seri"
   ]
  },
  {
   "cell_type": "code",
   "execution_count": 6,
   "id": "7137d3f9-30a6-4f08-9a91-e0be8fd0ea37",
   "metadata": {},
   "outputs": [
    {
     "data": {
      "text/plain": [
       "pandas.core.series.Series"
      ]
     },
     "execution_count": 6,
     "metadata": {},
     "output_type": "execute_result"
    }
   ],
   "source": [
    "type(seri)"
   ]
  },
  {
   "cell_type": "code",
   "execution_count": 7,
   "id": "47d5a12c-cc60-4aaf-883a-2acacc1de16b",
   "metadata": {},
   "outputs": [
    {
     "data": {
      "text/plain": [
       "5"
      ]
     },
     "execution_count": 7,
     "metadata": {},
     "output_type": "execute_result"
    }
   ],
   "source": [
    "seri.size"
   ]
  },
  {
   "cell_type": "code",
   "execution_count": 8,
   "id": "2f9ae0ce-f948-4468-99eb-d42bcc5f6f8e",
   "metadata": {},
   "outputs": [
    {
     "data": {
      "text/plain": [
       "[RangeIndex(start=0, stop=5, step=1)]"
      ]
     },
     "execution_count": 8,
     "metadata": {},
     "output_type": "execute_result"
    }
   ],
   "source": [
    "seri.axes"
   ]
  },
  {
   "cell_type": "code",
   "execution_count": 9,
   "id": "27b1ed79-b53d-4332-a8f9-059a4f2cee06",
   "metadata": {},
   "outputs": [
    {
     "data": {
      "text/plain": [
       "dtype('int64')"
      ]
     },
     "execution_count": 9,
     "metadata": {},
     "output_type": "execute_result"
    }
   ],
   "source": [
    "seri.dtype"
   ]
  },
  {
   "cell_type": "code",
   "execution_count": 12,
   "id": "6355c02a-f0b4-4807-a0a1-fa72068a9520",
   "metadata": {},
   "outputs": [
    {
     "data": {
      "text/plain": [
       "1"
      ]
     },
     "execution_count": 12,
     "metadata": {},
     "output_type": "execute_result"
    }
   ],
   "source": [
    "seri.ndim #tek boyutlu oldugu için"
   ]
  },
  {
   "cell_type": "code",
   "execution_count": 11,
   "id": "90efc52a-ab4f-48de-8400-b23b0e015c52",
   "metadata": {},
   "outputs": [
    {
     "data": {
      "text/plain": [
       "array([1, 2, 3, 4, 5], dtype=int64)"
      ]
     },
     "execution_count": 11,
     "metadata": {},
     "output_type": "execute_result"
    }
   ],
   "source": [
    "seri.values"
   ]
  },
  {
   "cell_type": "code",
   "execution_count": 13,
   "id": "f0f7ed7d-d805-4425-97f3-b29402a1365b",
   "metadata": {},
   "outputs": [
    {
     "data": {
      "text/plain": [
       "0    1\n",
       "1    2\n",
       "dtype: int64"
      ]
     },
     "execution_count": 13,
     "metadata": {},
     "output_type": "execute_result"
    }
   ],
   "source": [
    "seri.head(2) #Serinin  kaç elamına erişmek istediğimiz"
   ]
  },
  {
   "cell_type": "code",
   "execution_count": 14,
   "id": "47d4dca0-b597-4a1d-a098-7ebbd36e4746",
   "metadata": {},
   "outputs": [
    {
     "data": {
      "text/plain": [
       "2    3\n",
       "3    4\n",
       "4    5\n",
       "dtype: int64"
      ]
     },
     "execution_count": 14,
     "metadata": {},
     "output_type": "execute_result"
    }
   ],
   "source": [
    "seri.tail(3) #Serinin elamanlarına sondan bakmak için"
   ]
  },
  {
   "cell_type": "markdown",
   "id": "697bc9e0-5c42-463e-bfb5-570550cfa6d5",
   "metadata": {},
   "source": [
    "**Index İsimlendirme**"
   ]
  },
  {
   "cell_type": "code",
   "execution_count": 15,
   "id": "5264b54b-b00d-4238-a171-259be6759b0f",
   "metadata": {},
   "outputs": [
    {
     "data": {
      "text/plain": [
       "0    1\n",
       "1    2\n",
       "2    3\n",
       "3    4\n",
       "4    5\n",
       "dtype: int64"
      ]
     },
     "execution_count": 15,
     "metadata": {},
     "output_type": "execute_result"
    }
   ],
   "source": [
    "pd.Series([1,2,3,4,5])"
   ]
  },
  {
   "cell_type": "code",
   "execution_count": 27,
   "id": "9a7bc00c-c93c-4e03-b56b-cc234ae3a8d1",
   "metadata": {},
   "outputs": [
    {
     "data": {
      "text/plain": [
       "5    1\n",
       "6    2\n",
       "7    3\n",
       "8    4\n",
       "9    5\n",
       "dtype: int64"
      ]
     },
     "execution_count": 27,
     "metadata": {},
     "output_type": "execute_result"
    }
   ],
   "source": [
    "a=pd.Series([1,2,3,4,5],index=[5,6,7,8,9])\n",
    "a"
   ]
  },
  {
   "cell_type": "code",
   "execution_count": 26,
   "id": "5549bd5b-9327-40c2-bbff-e1be20c1b76f",
   "metadata": {},
   "outputs": [
    {
     "data": {
      "text/plain": [
       "a    1\n",
       "b    2\n",
       "c    3\n",
       "d    4\n",
       "e    5\n",
       "dtype: int64"
      ]
     },
     "execution_count": 26,
     "metadata": {},
     "output_type": "execute_result"
    }
   ],
   "source": [
    "b=pd.Series([1,2,3,4,5],index=[\"a\",\"b\",\"c\",\"d\",\"e\"])\n",
    "b"
   ]
  },
  {
   "cell_type": "code",
   "execution_count": 24,
   "id": "7a6836e5-ff41-4402-ace7-864b448792a5",
   "metadata": {},
   "outputs": [
    {
     "data": {
      "text/plain": [
       "1"
      ]
     },
     "execution_count": 24,
     "metadata": {},
     "output_type": "execute_result"
    }
   ],
   "source": [
    "b[\"a\"]"
   ]
  },
  {
   "cell_type": "code",
   "execution_count": 28,
   "id": "e3f53ea2-ad08-4b6a-9e77-30b831d6641d",
   "metadata": {},
   "outputs": [
    {
     "data": {
      "text/plain": [
       "5"
      ]
     },
     "execution_count": 28,
     "metadata": {},
     "output_type": "execute_result"
    }
   ],
   "source": [
    "a[9]"
   ]
  },
  {
   "cell_type": "code",
   "execution_count": 29,
   "id": "e7e2441a-cc13-4f52-9299-d4c4bac5b5cf",
   "metadata": {},
   "outputs": [
    {
     "data": {
      "text/plain": [
       "b    2\n",
       "c    3\n",
       "d    4\n",
       "e    5\n",
       "dtype: int64"
      ]
     },
     "execution_count": 29,
     "metadata": {},
     "output_type": "execute_result"
    }
   ],
   "source": [
    "b[\"b\":\"e\"]"
   ]
  },
  {
   "cell_type": "markdown",
   "id": "f8518a68-17b8-4497-af3e-d8dda5ccd985",
   "metadata": {},
   "source": [
    "**Sözlük Üzerinden Liste Oluşturmak**"
   ]
  },
  {
   "cell_type": "code",
   "execution_count": 32,
   "id": "c346cc19-1122-417e-bec3-5e527debfc44",
   "metadata": {},
   "outputs": [
    {
     "data": {
      "text/plain": [
       "a    1\n",
       "b    2\n",
       "c    3\n",
       "d    4\n",
       "e    5\n",
       "dtype: int64"
      ]
     },
     "execution_count": 32,
     "metadata": {},
     "output_type": "execute_result"
    }
   ],
   "source": [
    "sozlük=pd.Series({\"a\":1,\"b\":2,\"c\":3,\"d\":4,\"e\":5})\n",
    "sozlük"
   ]
  },
  {
   "cell_type": "markdown",
   "id": "f8997118-4912-4189-8221-ef526e8db528",
   "metadata": {},
   "source": [
    "**İki Seriyi Birleştirerek Seri Oluşturma**"
   ]
  },
  {
   "cell_type": "code",
   "execution_count": 33,
   "id": "25750af6-cff5-4f70-aea4-81f6d98abce6",
   "metadata": {},
   "outputs": [
    {
     "data": {
      "text/plain": [
       "a    1\n",
       "b    2\n",
       "c    3\n",
       "d    4\n",
       "e    5\n",
       "a    1\n",
       "b    2\n",
       "c    3\n",
       "d    4\n",
       "e    5\n",
       "dtype: int64"
      ]
     },
     "execution_count": 33,
     "metadata": {},
     "output_type": "execute_result"
    }
   ],
   "source": [
    "pd.concat([sozlük,sozlük])"
   ]
  },
  {
   "cell_type": "code",
   "execution_count": null,
   "id": "20cc509f-ad4f-42ea-b9b1-d65495159f4d",
   "metadata": {},
   "outputs": [],
   "source": []
  }
 ],
 "metadata": {
  "kernelspec": {
   "display_name": "Python 3 (ipykernel)",
   "language": "python",
   "name": "python3"
  },
  "language_info": {
   "codemirror_mode": {
    "name": "ipython",
    "version": 3
   },
   "file_extension": ".py",
   "mimetype": "text/x-python",
   "name": "python",
   "nbconvert_exporter": "python",
   "pygments_lexer": "ipython3",
   "version": "3.9.12"
  }
 },
 "nbformat": 4,
 "nbformat_minor": 5
}
