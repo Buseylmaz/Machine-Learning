{
 "cells": [
  {
   "cell_type": "markdown",
   "id": "767af957-48c9-459a-88ac-d8529e243644",
   "metadata": {},
   "source": [
    "**Local Outlier Factor**"
   ]
  },
  {
   "cell_type": "markdown",
   "id": "2f96b694-60b6-43db-8a33-73deb31bb2df",
   "metadata": {},
   "source": [
    "Bir noktanın local yoğunluğu bu noktanın komşularıyla karşılaştırılıyor.Eğer bir nokta komşularının yoğunluğundan anlamlı bir şekilde düşük ise bu nokta komşularından daha seyrek bir bölge de bulunuyordur yorumu yapılabiliyor.Dolayısıyla burada bir komşuluk yapısı söz konusu.Bir değerin çevresi yogun degilse demek ki bu değer aykırı değerdir şeklinde değerlendirliyor."
   ]
  },
  {
   "cell_type": "code",
   "execution_count": 5,
   "id": "47f1e7c3-eaf0-4c83-a479-eff12202a9f8",
   "metadata": {},
   "outputs": [],
   "source": [
    "import seaborn as sns\n",
    "import numpy as np\n",
    "from sklearn.neighbors import LocalOutlierFactor #kullanarak bir skorlama işlemi gerçekleştireceğiz"
   ]
  },
  {
   "cell_type": "code",
   "execution_count": 12,
   "id": "c1e9c8cf-d85d-40db-90ec-38f737b866d2",
   "metadata": {
    "tags": []
   },
   "outputs": [
    {
     "data": {
      "text/html": [
       "<div>\n",
       "<style scoped>\n",
       "    .dataframe tbody tr th:only-of-type {\n",
       "        vertical-align: middle;\n",
       "    }\n",
       "\n",
       "    .dataframe tbody tr th {\n",
       "        vertical-align: top;\n",
       "    }\n",
       "\n",
       "    .dataframe thead th {\n",
       "        text-align: right;\n",
       "    }\n",
       "</style>\n",
       "<table border=\"1\" class=\"dataframe\">\n",
       "  <thead>\n",
       "    <tr style=\"text-align: right;\">\n",
       "      <th></th>\n",
       "      <th>carat</th>\n",
       "      <th>depth</th>\n",
       "      <th>table</th>\n",
       "      <th>price</th>\n",
       "      <th>x</th>\n",
       "      <th>y</th>\n",
       "      <th>z</th>\n",
       "    </tr>\n",
       "  </thead>\n",
       "  <tbody>\n",
       "    <tr>\n",
       "      <th>0</th>\n",
       "      <td>0.23</td>\n",
       "      <td>61.5</td>\n",
       "      <td>55.0</td>\n",
       "      <td>326</td>\n",
       "      <td>3.95</td>\n",
       "      <td>3.98</td>\n",
       "      <td>2.43</td>\n",
       "    </tr>\n",
       "    <tr>\n",
       "      <th>1</th>\n",
       "      <td>0.21</td>\n",
       "      <td>59.8</td>\n",
       "      <td>61.0</td>\n",
       "      <td>326</td>\n",
       "      <td>3.89</td>\n",
       "      <td>3.84</td>\n",
       "      <td>2.31</td>\n",
       "    </tr>\n",
       "    <tr>\n",
       "      <th>2</th>\n",
       "      <td>0.23</td>\n",
       "      <td>56.9</td>\n",
       "      <td>65.0</td>\n",
       "      <td>327</td>\n",
       "      <td>4.05</td>\n",
       "      <td>4.07</td>\n",
       "      <td>2.31</td>\n",
       "    </tr>\n",
       "    <tr>\n",
       "      <th>3</th>\n",
       "      <td>0.29</td>\n",
       "      <td>62.4</td>\n",
       "      <td>58.0</td>\n",
       "      <td>334</td>\n",
       "      <td>4.20</td>\n",
       "      <td>4.23</td>\n",
       "      <td>2.63</td>\n",
       "    </tr>\n",
       "    <tr>\n",
       "      <th>4</th>\n",
       "      <td>0.31</td>\n",
       "      <td>63.3</td>\n",
       "      <td>58.0</td>\n",
       "      <td>335</td>\n",
       "      <td>4.34</td>\n",
       "      <td>4.35</td>\n",
       "      <td>2.75</td>\n",
       "    </tr>\n",
       "  </tbody>\n",
       "</table>\n",
       "</div>"
      ],
      "text/plain": [
       "   carat  depth  table  price     x     y     z\n",
       "0   0.23   61.5   55.0    326  3.95  3.98  2.43\n",
       "1   0.21   59.8   61.0    326  3.89  3.84  2.31\n",
       "2   0.23   56.9   65.0    327  4.05  4.07  2.31\n",
       "3   0.29   62.4   58.0    334  4.20  4.23  2.63\n",
       "4   0.31   63.3   58.0    335  4.34  4.35  2.75"
      ]
     },
     "execution_count": 12,
     "metadata": {},
     "output_type": "execute_result"
    }
   ],
   "source": [
    "veri=sns.load_dataset(\"diamonds\")\n",
    "veri=veri.select_dtypes(include=[\"float64\",\"int64\"]) #sayısal verilere erişmek için tip seçimi gerçekleşitiriyor\n",
    "veri=veri.copy()\n",
    "veri=veri.dropna() #eksik değerleri silmek için\n",
    "veri.head()"
   ]
  },
  {
   "cell_type": "code",
   "execution_count": 13,
   "id": "a31a1eca-1860-44cd-9fe0-897dfff3661d",
   "metadata": {},
   "outputs": [],
   "source": [
    "lof=LocalOutlierFactor(n_neighbors=20,contamination=0.1) #n_neighbors komşuluk sayısını belirtiyoruz.contamination yogunlugu ifade eder."
   ]
  },
  {
   "cell_type": "code",
   "execution_count": 14,
   "id": "b71a908e-08af-4cc8-9a47-957942239ada",
   "metadata": {},
   "outputs": [
    {
     "data": {
      "text/plain": [
       "array([-1, -1, -1, ...,  1,  1,  1])"
      ]
     },
     "execution_count": 14,
     "metadata": {},
     "output_type": "execute_result"
    }
   ],
   "source": [
    "lof.fit_predict(veri) #algoritmayı çalıştırma işlemi"
   ]
  },
  {
   "cell_type": "code",
   "execution_count": 15,
   "id": "e1b236f9-28d6-4b57-95f1-1dee8664f95e",
   "metadata": {},
   "outputs": [],
   "source": [
    "veri_scores=lof.negative_outlier_factor_"
   ]
  },
  {
   "cell_type": "code",
   "execution_count": 17,
   "id": "fa62a2dd-adbe-4993-aea7-dbaba8b9a5ee",
   "metadata": {},
   "outputs": [
    {
     "data": {
      "text/plain": [
       "array([-1.59732899, -1.62278873, -1.33002541, -1.30712521, -1.28408436,\n",
       "       -1.28428162, -1.26458706, -1.28422952, -1.27351342])"
      ]
     },
     "execution_count": 17,
     "metadata": {},
     "output_type": "execute_result"
    }
   ],
   "source": [
    "veri_scores[1:10]"
   ]
  },
  {
   "cell_type": "code",
   "execution_count": 18,
   "id": "cabfb953-459a-41ad-b1b7-c0b9b2d34dad",
   "metadata": {},
   "outputs": [
    {
     "data": {
      "text/plain": [
       "array([-1.62278873, -1.59732899, -1.33002541, -1.30712521, -1.28428162,\n",
       "       -1.28422952, -1.28408436, -1.27351342, -1.26458706, -1.23611906,\n",
       "       -1.21093135, -1.20830179, -1.17637026, -1.14305176, -1.13307628,\n",
       "       -1.13060731, -1.11364018, -1.08139269, -1.08093519])"
      ]
     },
     "execution_count": 18,
     "metadata": {},
     "output_type": "execute_result"
    }
   ],
   "source": [
    "np.sort(veri_scores[1:20])"
   ]
  },
  {
   "cell_type": "code",
   "execution_count": null,
   "id": "dea1c7d3-a201-42f4-add1-f2dd1c09692b",
   "metadata": {},
   "outputs": [],
   "source": []
  }
 ],
 "metadata": {
  "kernelspec": {
   "display_name": "Python 3 (ipykernel)",
   "language": "python",
   "name": "python3"
  },
  "language_info": {
   "codemirror_mode": {
    "name": "ipython",
    "version": 3
   },
   "file_extension": ".py",
   "mimetype": "text/x-python",
   "name": "python",
   "nbconvert_exporter": "python",
   "pygments_lexer": "ipython3",
   "version": "3.9.12"
  }
 },
 "nbformat": 4,
 "nbformat_minor": 5
}
