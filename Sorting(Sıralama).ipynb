{
 "cells": [
  {
   "cell_type": "code",
   "execution_count": 1,
   "id": "714c990f-970f-460a-bbc4-743dd2655156",
   "metadata": {},
   "outputs": [],
   "source": [
    "import numpy as np"
   ]
  },
  {
   "cell_type": "code",
   "execution_count": 2,
   "id": "880bcca6-aafd-48e0-886b-d26f96652498",
   "metadata": {},
   "outputs": [],
   "source": [
    "a=np.array([2,4,7,5,1,0,3,6])"
   ]
  },
  {
   "cell_type": "code",
   "execution_count": 3,
   "id": "ff435883-5673-4743-a3e4-87d15c762c01",
   "metadata": {},
   "outputs": [
    {
     "data": {
      "text/plain": [
       "array([2, 4, 7, 5, 1, 0, 3, 6])"
      ]
     },
     "execution_count": 3,
     "metadata": {},
     "output_type": "execute_result"
    }
   ],
   "source": [
    "a"
   ]
  },
  {
   "cell_type": "code",
   "execution_count": 6,
   "id": "0ee9bdbd-a56d-4533-9363-de853b62e7e1",
   "metadata": {},
   "outputs": [
    {
     "data": {
      "text/plain": [
       "array([0, 1, 2, 3, 4, 5, 6, 7])"
      ]
     },
     "execution_count": 6,
     "metadata": {},
     "output_type": "execute_result"
    }
   ],
   "source": [
    "np.sort(a)"
   ]
  },
  {
   "cell_type": "code",
   "execution_count": 7,
   "id": "492829cc-3387-4fe6-badc-f94a922390d5",
   "metadata": {},
   "outputs": [
    {
     "data": {
      "text/plain": [
       "array([0, 1, 2, 3, 4, 5, 6, 7])"
      ]
     },
     "execution_count": 7,
     "metadata": {},
     "output_type": "execute_result"
    }
   ],
   "source": [
    "a"
   ]
  },
  {
   "cell_type": "markdown",
   "id": "86e73e90-3e39-4d5b-b0c5-575d96d72bf1",
   "metadata": {},
   "source": [
    "**İki Boyutlu Sıralama**"
   ]
  },
  {
   "cell_type": "code",
   "execution_count": 12,
   "id": "ac940f15-da2e-4399-bbea-d14d6613da1a",
   "metadata": {},
   "outputs": [
    {
     "data": {
      "text/plain": [
       "array([[16.84715385, 22.29555248, 15.33206337, 30.47908573],\n",
       "       [29.32011012, 24.72129715, 14.55264466, 14.61840644],\n",
       "       [22.47791234, 12.89686044, 16.22562338, 20.12472084],\n",
       "       [23.42693916, 18.12347303, 26.85578899, 28.14366002]])"
      ]
     },
     "execution_count": 12,
     "metadata": {},
     "output_type": "execute_result"
    }
   ],
   "source": [
    "b=np.random.normal(20,5,(4,4)) #20 ort 5 standart sapma\n",
    "b"
   ]
  },
  {
   "cell_type": "code",
   "execution_count": 14,
   "id": "ae4eb700-d565-484e-a33d-ed6103d073dc",
   "metadata": {},
   "outputs": [
    {
     "data": {
      "text/plain": [
       "array([[15.33206337, 16.84715385, 22.29555248, 30.47908573],\n",
       "       [14.55264466, 14.61840644, 24.72129715, 29.32011012],\n",
       "       [12.89686044, 16.22562338, 20.12472084, 22.47791234],\n",
       "       [18.12347303, 23.42693916, 26.85578899, 28.14366002]])"
      ]
     },
     "execution_count": 14,
     "metadata": {},
     "output_type": "execute_result"
    }
   ],
   "source": [
    "np.sort(b,axis=1) #satır satır göre sıralama"
   ]
  },
  {
   "cell_type": "code",
   "execution_count": 15,
   "id": "4ab8cf99-1ef1-47d2-90c7-e26a660de8c7",
   "metadata": {},
   "outputs": [
    {
     "data": {
      "text/plain": [
       "array([[16.84715385, 12.89686044, 14.55264466, 14.61840644],\n",
       "       [22.47791234, 18.12347303, 15.33206337, 20.12472084],\n",
       "       [23.42693916, 22.29555248, 16.22562338, 28.14366002],\n",
       "       [29.32011012, 24.72129715, 26.85578899, 30.47908573]])"
      ]
     },
     "execution_count": 15,
     "metadata": {},
     "output_type": "execute_result"
    }
   ],
   "source": [
    "np.sort(b,axis=0) #sütünlara göre sıralama"
   ]
  },
  {
   "cell_type": "code",
   "execution_count": null,
   "id": "ebe34bfa-cf37-41a8-9db2-e8b71d6c4855",
   "metadata": {},
   "outputs": [],
   "source": []
  }
 ],
 "metadata": {
  "kernelspec": {
   "display_name": "Python 3 (ipykernel)",
   "language": "python",
   "name": "python3"
  },
  "language_info": {
   "codemirror_mode": {
    "name": "ipython",
    "version": 3
   },
   "file_extension": ".py",
   "mimetype": "text/x-python",
   "name": "python",
   "nbconvert_exporter": "python",
   "pygments_lexer": "ipython3",
   "version": "3.9.12"
  }
 },
 "nbformat": 4,
 "nbformat_minor": 5
}
