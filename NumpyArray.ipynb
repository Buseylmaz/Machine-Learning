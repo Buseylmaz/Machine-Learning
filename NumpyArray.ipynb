{
 "cells": [
  {
   "cell_type": "code",
   "execution_count": 2,
   "id": "a9ef076b-3f80-42a0-9b06-17564e2bb3be",
   "metadata": {},
   "outputs": [],
   "source": [
    "import numpy as np"
   ]
  },
  {
   "cell_type": "code",
   "execution_count": 4,
   "id": "bd8c32d7-416e-4644-a3d1-82dd4f108485",
   "metadata": {},
   "outputs": [
    {
     "data": {
      "text/plain": [
       "array([3.  , 4.  , 3.15, 2.11])"
      ]
     },
     "execution_count": 4,
     "metadata": {},
     "output_type": "execute_result"
    }
   ],
   "source": [
    "a=np.array([3,4,3.15,2.11])\n",
    "a"
   ]
  },
  {
   "cell_type": "code",
   "execution_count": 7,
   "id": "af29a62f-20b5-4f02-8c8c-d8e432ebf161",
   "metadata": {},
   "outputs": [
    {
     "data": {
      "text/plain": [
       "array([2, 4, 5, 7, 1, 2])"
      ]
     },
     "execution_count": 7,
     "metadata": {},
     "output_type": "execute_result"
    }
   ],
   "source": [
    "b=np.array([2,4,5,7, 1.25 , 2.47],dtype=\"int\")#float değerleri int dönüştürür.float yapmak içinse float32\n",
    "b"
   ]
  },
  {
   "cell_type": "markdown",
   "id": "7b876d03-ccef-4117-ae3d-e5c3210930de",
   "metadata": {},
   "source": [
    "**Sıfırdan Array Oluşturma**"
   ]
  },
  {
   "cell_type": "code",
   "execution_count": 24,
   "id": "f231605a-51e8-4680-92c0-3f01d3a3288a",
   "metadata": {},
   "outputs": [
    {
     "data": {
      "text/plain": [
       "array([0, 0, 0, 0, 0, 0, 0, 0, 0, 0])"
      ]
     },
     "execution_count": 24,
     "metadata": {},
     "output_type": "execute_result"
    }
   ],
   "source": [
    "np.zeros(10,dtype=int) #Tek boyutlu array(vektör)"
   ]
  },
  {
   "cell_type": "code",
   "execution_count": 25,
   "id": "c7d54900-6715-4b49-894b-f4fb7e261cae",
   "metadata": {},
   "outputs": [
    {
     "data": {
      "text/plain": [
       "array([[1, 1, 1, 1, 1],\n",
       "       [1, 1, 1, 1, 1],\n",
       "       [1, 1, 1, 1, 1]])"
      ]
     },
     "execution_count": 25,
     "metadata": {},
     "output_type": "execute_result"
    }
   ],
   "source": [
    "np.ones((3,5),dtype=int) #İki boyutlu array(mantris)"
   ]
  },
  {
   "cell_type": "code",
   "execution_count": 13,
   "id": "6a06d501-461f-4320-907a-57aa0d0d6caf",
   "metadata": {},
   "outputs": [
    {
     "data": {
      "text/plain": [
       "array([[5, 5, 5, 5, 5],\n",
       "       [5, 5, 5, 5, 5],\n",
       "       [5, 5, 5, 5, 5]])"
      ]
     },
     "execution_count": 13,
     "metadata": {},
     "output_type": "execute_result"
    }
   ],
   "source": [
    "np.full((3,5),5,dtype=int)"
   ]
  },
  {
   "cell_type": "code",
   "execution_count": 16,
   "id": "64938804-18ff-4fac-affc-559eb023038b",
   "metadata": {},
   "outputs": [
    {
     "data": {
      "text/plain": [
       "array([ 0,  3,  6,  9, 12, 15, 18, 21, 24, 27])"
      ]
     },
     "execution_count": 16,
     "metadata": {},
     "output_type": "execute_result"
    }
   ],
   "source": [
    "np.arange(0,30,3) #Dogrusal array oluşturma"
   ]
  },
  {
   "cell_type": "code",
   "execution_count": 19,
   "id": "6ee6311d-89d4-442f-a474-91d577cc75ff",
   "metadata": {},
   "outputs": [
    {
     "data": {
      "text/plain": [
       "array([0.        , 0.22222222, 0.44444444, 0.66666667, 0.88888889,\n",
       "       1.11111111, 1.33333333, 1.55555556, 1.77777778, 2.        ])"
      ]
     },
     "execution_count": 19,
     "metadata": {},
     "output_type": "execute_result"
    }
   ],
   "source": [
    "np.linspace(0,2,10) #İki değer arasında belirli sayıda değer oluşturma"
   ]
  },
  {
   "cell_type": "code",
   "execution_count": 27,
   "id": "fb16c4f3-33ca-40fc-95bb-be56b171589d",
   "metadata": {},
   "outputs": [
    {
     "data": {
      "text/plain": [
       "array([[ 6.25135726, 12.43472889, 12.11958026],\n",
       "       [14.10286418,  6.95981593,  8.45985738]])"
      ]
     },
     "execution_count": 27,
     "metadata": {},
     "output_type": "execute_result"
    }
   ],
   "source": [
    "np.random.normal(10,5,(2,3)) #10=ort 5=standart sapma (2,3)=satır sütün"
   ]
  },
  {
   "cell_type": "code",
   "execution_count": 38,
   "id": "369e1885-283c-4078-9908-69acfe99a8d5",
   "metadata": {},
   "outputs": [
    {
     "data": {
      "text/plain": [
       "array([[1, 6, 1],\n",
       "       [6, 4, 6],\n",
       "       [5, 4, 9]])"
      ]
     },
     "execution_count": 38,
     "metadata": {},
     "output_type": "execute_result"
    }
   ],
   "source": [
    "np.random.randint(0,10,(3,3)) #int tipinde rastgele array "
   ]
  },
  {
   "cell_type": "markdown",
   "id": "367b6766-7e3a-49cb-84b3-0f615a6cba21",
   "metadata": {},
   "source": [
    "*************************************************************************************************************"
   ]
  },
  {
   "cell_type": "code",
   "execution_count": 47,
   "id": "83bcc69d-20bd-4e22-a2d0-aee7c2bc0e18",
   "metadata": {},
   "outputs": [],
   "source": [
    "p=np.random.randint(9,size=10)"
   ]
  },
  {
   "cell_type": "code",
   "execution_count": 43,
   "id": "1d6f75c2-82ce-405b-b993-1bfcdea4a201",
   "metadata": {},
   "outputs": [
    {
     "data": {
      "text/plain": [
       "1"
      ]
     },
     "execution_count": 43,
     "metadata": {},
     "output_type": "execute_result"
    }
   ],
   "source": [
    "p.ndim #Tek boyutlu oldugu için 1"
   ]
  },
  {
   "cell_type": "code",
   "execution_count": 44,
   "id": "1860a09b-39bd-4cce-9f12-15fe9653da09",
   "metadata": {},
   "outputs": [
    {
     "data": {
      "text/plain": [
       "(10,)"
      ]
     },
     "execution_count": 44,
     "metadata": {},
     "output_type": "execute_result"
    }
   ],
   "source": [
    "p.shape"
   ]
  },
  {
   "cell_type": "code",
   "execution_count": 45,
   "id": "975cbd47-e6bc-42f6-a279-e579befcb2b3",
   "metadata": {},
   "outputs": [
    {
     "data": {
      "text/plain": [
       "10"
      ]
     },
     "execution_count": 45,
     "metadata": {},
     "output_type": "execute_result"
    }
   ],
   "source": [
    "p.size #toplam elaman sayısı"
   ]
  },
  {
   "cell_type": "code",
   "execution_count": 46,
   "id": "4c6476f0-c47f-49fc-bc4f-b6f6e87592c8",
   "metadata": {},
   "outputs": [
    {
     "data": {
      "text/plain": [
       "dtype('int32')"
      ]
     },
     "execution_count": 46,
     "metadata": {},
     "output_type": "execute_result"
    }
   ],
   "source": [
    "p.dtype #veri tipini verdi"
   ]
  },
  {
   "cell_type": "markdown",
   "id": "5180fe16-d39d-4959-87e9-03d5d845ec03",
   "metadata": {},
   "source": [
    "------------------------------------------------------------------"
   ]
  },
  {
   "cell_type": "code",
   "execution_count": 49,
   "id": "b7790b40-621b-4ca1-afcf-c0aece957dc3",
   "metadata": {},
   "outputs": [],
   "source": [
    "n=np.random.randint(10,size=(10,3))"
   ]
  },
  {
   "cell_type": "code",
   "execution_count": 50,
   "id": "f024f6f6-8910-4011-94d1-60c61e842706",
   "metadata": {},
   "outputs": [
    {
     "data": {
      "text/plain": [
       "array([[4, 9, 4],\n",
       "       [6, 4, 6],\n",
       "       [8, 5, 8],\n",
       "       [3, 6, 4],\n",
       "       [7, 7, 4],\n",
       "       [2, 9, 2],\n",
       "       [7, 0, 9],\n",
       "       [2, 6, 6],\n",
       "       [2, 0, 4],\n",
       "       [9, 7, 2]])"
      ]
     },
     "execution_count": 50,
     "metadata": {},
     "output_type": "execute_result"
    }
   ],
   "source": [
    "n"
   ]
  },
  {
   "cell_type": "code",
   "execution_count": 51,
   "id": "3a9cb147-dbdf-4947-a540-7b9ea201288d",
   "metadata": {},
   "outputs": [
    {
     "data": {
      "text/plain": [
       "2"
      ]
     },
     "execution_count": 51,
     "metadata": {},
     "output_type": "execute_result"
    }
   ],
   "source": [
    "n.ndim #2 boyutlu "
   ]
  },
  {
   "cell_type": "code",
   "execution_count": 52,
   "id": "be4e5d9c-c950-4488-8876-e54aef0e8811",
   "metadata": {},
   "outputs": [
    {
     "data": {
      "text/plain": [
       "(10, 3)"
      ]
     },
     "execution_count": 52,
     "metadata": {},
     "output_type": "execute_result"
    }
   ],
   "source": [
    "n.shape"
   ]
  },
  {
   "cell_type": "code",
   "execution_count": 53,
   "id": "bd16e382-72b5-46ad-af78-af9cf050f60e",
   "metadata": {},
   "outputs": [
    {
     "data": {
      "text/plain": [
       "30"
      ]
     },
     "execution_count": 53,
     "metadata": {},
     "output_type": "execute_result"
    }
   ],
   "source": [
    "n.size"
   ]
  },
  {
   "cell_type": "code",
   "execution_count": 54,
   "id": "8241fcfd-e81e-458c-951d-0d2f13bac826",
   "metadata": {},
   "outputs": [
    {
     "data": {
      "text/plain": [
       "dtype('int32')"
      ]
     },
     "execution_count": 54,
     "metadata": {},
     "output_type": "execute_result"
    }
   ],
   "source": [
    "n.dtype"
   ]
  },
  {
   "cell_type": "code",
   "execution_count": null,
   "id": "53f7e9d5-bee4-4cc6-bfe3-badf59cd3c9e",
   "metadata": {},
   "outputs": [],
   "source": []
  }
 ],
 "metadata": {
  "kernelspec": {
   "display_name": "Python 3 (ipykernel)",
   "language": "python",
   "name": "python3"
  },
  "language_info": {
   "codemirror_mode": {
    "name": "ipython",
    "version": 3
   },
   "file_extension": ".py",
   "mimetype": "text/x-python",
   "name": "python",
   "nbconvert_exporter": "python",
   "pygments_lexer": "ipython3",
   "version": "3.9.12"
  }
 },
 "nbformat": 4,
 "nbformat_minor": 5
}
