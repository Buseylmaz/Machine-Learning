{
 "cells": [
  {
   "cell_type": "markdown",
   "id": "e1e53fde-a214-4187-90ea-1c0debd25519",
   "metadata": {},
   "source": [
    "**Silme**"
   ]
  },
  {
   "cell_type": "code",
   "execution_count": 41,
   "id": "2e3017a4-8e1b-44bc-81b2-77f399e3b1ce",
   "metadata": {},
   "outputs": [],
   "source": [
    "import pandas as pd\n",
    "import seaborn as sns"
   ]
  },
  {
   "cell_type": "code",
   "execution_count": 63,
   "id": "ccc73907-077c-4ff2-9320-b44c7138414a",
   "metadata": {
    "tags": []
   },
   "outputs": [
    {
     "data": {
      "text/html": [
       "<div>\n",
       "<style scoped>\n",
       "    .dataframe tbody tr th:only-of-type {\n",
       "        vertical-align: middle;\n",
       "    }\n",
       "\n",
       "    .dataframe tbody tr th {\n",
       "        vertical-align: top;\n",
       "    }\n",
       "\n",
       "    .dataframe thead th {\n",
       "        text-align: right;\n",
       "    }\n",
       "</style>\n",
       "<table border=\"1\" class=\"dataframe\">\n",
       "  <thead>\n",
       "    <tr style=\"text-align: right;\">\n",
       "      <th></th>\n",
       "      <th>carat</th>\n",
       "      <th>depth</th>\n",
       "      <th>table</th>\n",
       "      <th>price</th>\n",
       "      <th>x</th>\n",
       "      <th>y</th>\n",
       "      <th>z</th>\n",
       "    </tr>\n",
       "  </thead>\n",
       "  <tbody>\n",
       "    <tr>\n",
       "      <th>0</th>\n",
       "      <td>0.23</td>\n",
       "      <td>61.5</td>\n",
       "      <td>55.0</td>\n",
       "      <td>326</td>\n",
       "      <td>3.95</td>\n",
       "      <td>3.98</td>\n",
       "      <td>2.43</td>\n",
       "    </tr>\n",
       "    <tr>\n",
       "      <th>1</th>\n",
       "      <td>0.21</td>\n",
       "      <td>59.8</td>\n",
       "      <td>61.0</td>\n",
       "      <td>326</td>\n",
       "      <td>3.89</td>\n",
       "      <td>3.84</td>\n",
       "      <td>2.31</td>\n",
       "    </tr>\n",
       "    <tr>\n",
       "      <th>2</th>\n",
       "      <td>0.23</td>\n",
       "      <td>56.9</td>\n",
       "      <td>65.0</td>\n",
       "      <td>327</td>\n",
       "      <td>4.05</td>\n",
       "      <td>4.07</td>\n",
       "      <td>2.31</td>\n",
       "    </tr>\n",
       "    <tr>\n",
       "      <th>3</th>\n",
       "      <td>0.29</td>\n",
       "      <td>62.4</td>\n",
       "      <td>58.0</td>\n",
       "      <td>334</td>\n",
       "      <td>4.20</td>\n",
       "      <td>4.23</td>\n",
       "      <td>2.63</td>\n",
       "    </tr>\n",
       "    <tr>\n",
       "      <th>4</th>\n",
       "      <td>0.31</td>\n",
       "      <td>63.3</td>\n",
       "      <td>58.0</td>\n",
       "      <td>335</td>\n",
       "      <td>4.34</td>\n",
       "      <td>4.35</td>\n",
       "      <td>2.75</td>\n",
       "    </tr>\n",
       "  </tbody>\n",
       "</table>\n",
       "</div>"
      ],
      "text/plain": [
       "   carat  depth  table  price     x     y     z\n",
       "0   0.23   61.5   55.0    326  3.95  3.98  2.43\n",
       "1   0.21   59.8   61.0    326  3.89  3.84  2.31\n",
       "2   0.23   56.9   65.0    327  4.05  4.07  2.31\n",
       "3   0.29   62.4   58.0    334  4.20  4.23  2.63\n",
       "4   0.31   63.3   58.0    335  4.34  4.35  2.75"
      ]
     },
     "execution_count": 63,
     "metadata": {},
     "output_type": "execute_result"
    }
   ],
   "source": [
    "veri=sns.load_dataset(\"diamonds\")\n",
    "veri=veri.select_dtypes(include=[\"float64\",\"int64\"]) #sayısal verilere erişmek için tip seçimi gerçekleşitiriyor\n",
    "veri.dropna() #eksik değerleri silmek için\n",
    "veri.head()"
   ]
  },
  {
   "cell_type": "code",
   "execution_count": 64,
   "id": "e919146b-991a-423f-8d61-487d5ddb1da3",
   "metadata": {},
   "outputs": [],
   "source": [
    "table_veri=veri[\"table\"]"
   ]
  },
  {
   "cell_type": "code",
   "execution_count": 65,
   "id": "67d3655d-15a6-4723-bfaa-2670201c1eab",
   "metadata": {
    "tags": []
   },
   "outputs": [
    {
     "data": {
      "text/plain": [
       "<AxesSubplot:xlabel='table'>"
      ]
     },
     "execution_count": 65,
     "metadata": {},
     "output_type": "execute_result"
    },
    {
     "data": {
      "image/png": "[encoded data removed]",
      "text/plain": [
       "<Figure size 432x288 with 1 Axes>"
      ]
     },
     "metadata": {
      "needs_background": "light"
     },
     "output_type": "display_data"
    }
   ],
   "source": [
    "sns.boxplot(x=table_veri)"
   ]
  },
  {
   "cell_type": "code",
   "execution_count": 66,
   "id": "414c244a-1e9b-42f8-a6d3-3057ae3486e0",
   "metadata": {},
   "outputs": [],
   "source": [
    "#eşik değer belirleniyor\n",
    "Q1=table_veri.quantile(0.25)\n",
    "Q3=table_veri.quantile(0.75)\n",
    "IQR=Q3-Q1 # 1.çeyrek değerden 3.çeyrek değeri çıkardık"
   ]
  },
  {
   "cell_type": "code",
   "execution_count": 67,
   "id": "cf82bb77-da29-4e43-bc61-7638353017ca",
   "metadata": {},
   "outputs": [],
   "source": [
    "alt_sinir=Q1-1.5*IQR \n",
    "ust_sinir=Q3+1.5*IQR"
   ]
  },
  {
   "cell_type": "code",
   "execution_count": 68,
   "id": "ed318966-3958-4da8-ad37-287395380310",
   "metadata": {},
   "outputs": [],
   "source": [
    "aykiri_veri=(table_veri<alt_sinir)"
   ]
  },
  {
   "cell_type": "code",
   "execution_count": 69,
   "id": "58dbcc0a-26eb-4431-9fc0-6596d2be0271",
   "metadata": {
    "tags": []
   },
   "outputs": [
    {
     "data": {
      "text/plain": [
       "1515     51.0\n",
       "3238     50.1\n",
       "3979     51.0\n",
       "4150     51.0\n",
       "5979     49.0\n",
       "7418     50.0\n",
       "8853     51.0\n",
       "11368    43.0\n",
       "22701    49.0\n",
       "25179    50.0\n",
       "26387    51.0\n",
       "33586    51.0\n",
       "35633    44.0\n",
       "45798    51.0\n",
       "46040    51.0\n",
       "47630    51.0\n",
       "Name: table, dtype: float64"
      ]
     },
     "execution_count": 69,
     "metadata": {},
     "output_type": "execute_result"
    }
   ],
   "source": [
    "table_veri[aykiri_veri]"
   ]
  },
  {
   "cell_type": "code",
   "execution_count": 49,
   "id": "525b990e-43bc-46fc-92f7-b712ce828dde",
   "metadata": {},
   "outputs": [
    {
     "data": {
      "text/plain": [
       "pandas.core.series.Series"
      ]
     },
     "execution_count": 49,
     "metadata": {},
     "output_type": "execute_result"
    }
   ],
   "source": [
    "type(table_veri)"
   ]
  },
  {
   "cell_type": "code",
   "execution_count": 50,
   "id": "4098fbd6-7f0e-419e-a0bc-38f154d98071",
   "metadata": {},
   "outputs": [
    {
     "data": {
      "text/plain": [
       "(53940,)"
      ]
     },
     "execution_count": 50,
     "metadata": {},
     "output_type": "execute_result"
    }
   ],
   "source": [
    "table_veri.shape"
   ]
  },
  {
   "cell_type": "code",
   "execution_count": 51,
   "id": "4aac776e-8afc-416a-a99a-f244ce8c6c26",
   "metadata": {},
   "outputs": [],
   "source": [
    "#tilda koşulu saglamayanları al demiş olduk yani aykırı olmayyanları al demek.Koşulun dışındakileri getir demek\n",
    "\n",
    "t_veri=table_veri[~((table_veri<(alt_sinir))|(table_veri>(ust_sinir)))]"
   ]
  },
  {
   "cell_type": "code",
   "execution_count": 52,
   "id": "4f30b995-0eaa-4a50-948a-81e76bf87627",
   "metadata": {
    "collapsed": true,
    "jupyter": {
     "outputs_hidden": true
    },
    "tags": []
   },
   "outputs": [
    {
     "data": {
      "text/plain": [
       "0        55.0\n",
       "1        61.0\n",
       "3        58.0\n",
       "4        58.0\n",
       "5        57.0\n",
       "         ... \n",
       "53935    57.0\n",
       "53936    55.0\n",
       "53937    60.0\n",
       "53938    58.0\n",
       "53939    55.0\n",
       "Name: table, Length: 53335, dtype: float64"
      ]
     },
     "execution_count": 52,
     "metadata": {},
     "output_type": "execute_result"
    }
   ],
   "source": [
    "t_veri"
   ]
  },
  {
   "cell_type": "code",
   "execution_count": 53,
   "id": "572a133a-05b2-4e83-a544-52d4cb5658af",
   "metadata": {},
   "outputs": [
    {
     "data": {
      "text/plain": [
       "(53335,)"
      ]
     },
     "execution_count": 53,
     "metadata": {},
     "output_type": "execute_result"
    }
   ],
   "source": [
    "t_veri.shape #605 tane değer aykırı veri oldugu gözlemleniyor"
   ]
  },
  {
   "cell_type": "markdown",
   "id": "0bb46ea4-4daa-43b7-9974-3aceed82de43",
   "metadata": {},
   "source": [
    "**Ortalama İle Doldurma**"
   ]
  },
  {
   "cell_type": "markdown",
   "id": "e074ddea-c2e4-45b9-8ceb-a732ae72eba8",
   "metadata": {},
   "source": [
    "Aykırı değerleri ort değerlerle değiştirmek istiyoruz."
   ]
  },
  {
   "cell_type": "code",
   "execution_count": 54,
   "id": "290e1deb-3898-4e8b-bce1-3661cd55f404",
   "metadata": {
    "collapsed": true,
    "jupyter": {
     "outputs_hidden": true
    },
    "tags": []
   },
   "outputs": [
    {
     "data": {
      "text/html": [
       "<div>\n",
       "<style scoped>\n",
       "    .dataframe tbody tr th:only-of-type {\n",
       "        vertical-align: middle;\n",
       "    }\n",
       "\n",
       "    .dataframe tbody tr th {\n",
       "        vertical-align: top;\n",
       "    }\n",
       "\n",
       "    .dataframe thead th {\n",
       "        text-align: right;\n",
       "    }\n",
       "</style>\n",
       "<table border=\"1\" class=\"dataframe\">\n",
       "  <thead>\n",
       "    <tr style=\"text-align: right;\">\n",
       "      <th></th>\n",
       "      <th>carat</th>\n",
       "      <th>depth</th>\n",
       "      <th>table</th>\n",
       "      <th>price</th>\n",
       "      <th>x</th>\n",
       "      <th>y</th>\n",
       "      <th>z</th>\n",
       "    </tr>\n",
       "  </thead>\n",
       "  <tbody>\n",
       "    <tr>\n",
       "      <th>0</th>\n",
       "      <td>0.23</td>\n",
       "      <td>61.5</td>\n",
       "      <td>55.0</td>\n",
       "      <td>326</td>\n",
       "      <td>3.95</td>\n",
       "      <td>3.98</td>\n",
       "      <td>2.43</td>\n",
       "    </tr>\n",
       "    <tr>\n",
       "      <th>1</th>\n",
       "      <td>0.21</td>\n",
       "      <td>59.8</td>\n",
       "      <td>61.0</td>\n",
       "      <td>326</td>\n",
       "      <td>3.89</td>\n",
       "      <td>3.84</td>\n",
       "      <td>2.31</td>\n",
       "    </tr>\n",
       "    <tr>\n",
       "      <th>2</th>\n",
       "      <td>0.23</td>\n",
       "      <td>56.9</td>\n",
       "      <td>65.0</td>\n",
       "      <td>327</td>\n",
       "      <td>4.05</td>\n",
       "      <td>4.07</td>\n",
       "      <td>2.31</td>\n",
       "    </tr>\n",
       "    <tr>\n",
       "      <th>3</th>\n",
       "      <td>0.29</td>\n",
       "      <td>62.4</td>\n",
       "      <td>58.0</td>\n",
       "      <td>334</td>\n",
       "      <td>4.20</td>\n",
       "      <td>4.23</td>\n",
       "      <td>2.63</td>\n",
       "    </tr>\n",
       "    <tr>\n",
       "      <th>4</th>\n",
       "      <td>0.31</td>\n",
       "      <td>63.3</td>\n",
       "      <td>58.0</td>\n",
       "      <td>335</td>\n",
       "      <td>4.34</td>\n",
       "      <td>4.35</td>\n",
       "      <td>2.75</td>\n",
       "    </tr>\n",
       "  </tbody>\n",
       "</table>\n",
       "</div>"
      ],
      "text/plain": [
       "   carat  depth  table  price     x     y     z\n",
       "0   0.23   61.5   55.0    326  3.95  3.98  2.43\n",
       "1   0.21   59.8   61.0    326  3.89  3.84  2.31\n",
       "2   0.23   56.9   65.0    327  4.05  4.07  2.31\n",
       "3   0.29   62.4   58.0    334  4.20  4.23  2.63\n",
       "4   0.31   63.3   58.0    335  4.34  4.35  2.75"
      ]
     },
     "execution_count": 54,
     "metadata": {},
     "output_type": "execute_result"
    }
   ],
   "source": [
    "veri=sns.load_dataset(\"diamonds\")\n",
    "veri=veri.select_dtypes(include=[\"float64\",\"int64\"]) #sayısal verilere erişmek için tip seçimi gerçekleşitiriyor\n",
    "veri.dropna() #eksik değerleri silmek için\n",
    "veri.head()"
   ]
  },
  {
   "cell_type": "code",
   "execution_count": 55,
   "id": "be13c4a1-9528-449d-ad1e-50f0f6b6e37d",
   "metadata": {},
   "outputs": [],
   "source": [
    "table_veri=veri[\"table\"]"
   ]
  },
  {
   "cell_type": "code",
   "execution_count": 56,
   "id": "92927d28-b98a-4c71-a9fe-0c7b111cc660",
   "metadata": {
    "collapsed": true,
    "jupyter": {
     "outputs_hidden": true
    },
    "tags": []
   },
   "outputs": [
    {
     "data": {
      "text/plain": [
       "1515     51.0\n",
       "3238     50.1\n",
       "3979     51.0\n",
       "4150     51.0\n",
       "5979     49.0\n",
       "7418     50.0\n",
       "8853     51.0\n",
       "11368    43.0\n",
       "22701    49.0\n",
       "25179    50.0\n",
       "26387    51.0\n",
       "33586    51.0\n",
       "35633    44.0\n",
       "45798    51.0\n",
       "46040    51.0\n",
       "47630    51.0\n",
       "Name: table, dtype: float64"
      ]
     },
     "execution_count": 56,
     "metadata": {},
     "output_type": "execute_result"
    }
   ],
   "source": [
    "table_veri[aykiri_veri]"
   ]
  },
  {
   "cell_type": "code",
   "execution_count": 57,
   "id": "300558ab-6155-41b3-8b75-8d49161bf143",
   "metadata": {},
   "outputs": [
    {
     "data": {
      "text/plain": [
       "57.45718390804603"
      ]
     },
     "execution_count": 57,
     "metadata": {},
     "output_type": "execute_result"
    }
   ],
   "source": [
    "table_veri.mean()"
   ]
  },
  {
   "cell_type": "code",
   "execution_count": 58,
   "id": "e8e235f4-0c43-4f93-bedf-b336c570b135",
   "metadata": {
    "collapsed": true,
    "jupyter": {
     "outputs_hidden": true
    },
    "tags": []
   },
   "outputs": [
    {
     "name": "stderr",
     "output_type": "stream",
     "text": [
      "C:\\Users\\buse\\AppData\\Local\\Temp\\ipykernel_10996\\3746292478.py:1: SettingWithCopyWarning: \n",
      "A value is trying to be set on a copy of a slice from a DataFrame\n",
      "\n",
      "See the caveats in the documentation: https://pandas.pydata.org/pandas-docs/stable/user_guide/indexing.html#returning-a-view-versus-a-copy\n",
      "  table_veri[aykiri_veri]=table_veri.mean()\n"
     ]
    }
   ],
   "source": [
    "table_veri[aykiri_veri]=table_veri.mean()"
   ]
  },
  {
   "cell_type": "code",
   "execution_count": 60,
   "id": "bbe47187-db1a-49f0-bc15-85923d65e2a1",
   "metadata": {
    "collapsed": true,
    "jupyter": {
     "outputs_hidden": true
    },
    "tags": []
   },
   "outputs": [
    {
     "data": {
      "text/plain": [
       "1515     57.457184\n",
       "3238     57.457184\n",
       "3979     57.457184\n",
       "4150     57.457184\n",
       "5979     57.457184\n",
       "7418     57.457184\n",
       "8853     57.457184\n",
       "11368    57.457184\n",
       "22701    57.457184\n",
       "25179    57.457184\n",
       "26387    57.457184\n",
       "33586    57.457184\n",
       "35633    57.457184\n",
       "45798    57.457184\n",
       "46040    57.457184\n",
       "47630    57.457184\n",
       "Name: table, dtype: float64"
      ]
     },
     "execution_count": 60,
     "metadata": {},
     "output_type": "execute_result"
    }
   ],
   "source": [
    "table_veri[aykiri_veri]"
   ]
  },
  {
   "cell_type": "markdown",
   "id": "d7142e26-5a2e-4625-ba14-53d956b2e052",
   "metadata": {},
   "source": [
    "**Baskılama Yöntemi**"
   ]
  },
  {
   "cell_type": "markdown",
   "id": "0c7219b0-dc55-470f-9b40-4d87fd68cfe2",
   "metadata": {},
   "source": [
    "Üst taraftaysa üst sınır değerine eşitlenir alt taraftaysa alt sınır değerine eşitlenir.\n",
    "Bir aykırı gözlem zaten veri setinin uçlarda oluşan değerdir."
   ]
  },
  {
   "cell_type": "code",
   "execution_count": 70,
   "id": "9ff07375-bd41-42b7-815e-a6976bc96ee8",
   "metadata": {},
   "outputs": [
    {
     "data": {
      "text/plain": [
       "1515     51.0\n",
       "3238     50.1\n",
       "3979     51.0\n",
       "4150     51.0\n",
       "5979     49.0\n",
       "7418     50.0\n",
       "8853     51.0\n",
       "11368    43.0\n",
       "22701    49.0\n",
       "25179    50.0\n",
       "26387    51.0\n",
       "33586    51.0\n",
       "35633    44.0\n",
       "45798    51.0\n",
       "46040    51.0\n",
       "47630    51.0\n",
       "Name: table, dtype: float64"
      ]
     },
     "execution_count": 70,
     "metadata": {},
     "output_type": "execute_result"
    }
   ],
   "source": [
    "table_veri[aykiri_veri]"
   ]
  },
  {
   "cell_type": "code",
   "execution_count": 71,
   "id": "7c1ffa76-8ae5-4762-84df-bd2e347d92b8",
   "metadata": {},
   "outputs": [
    {
     "data": {
      "text/plain": [
       "51.5"
      ]
     },
     "execution_count": 71,
     "metadata": {},
     "output_type": "execute_result"
    }
   ],
   "source": [
    "alt_sinir"
   ]
  },
  {
   "cell_type": "code",
   "execution_count": 72,
   "id": "82942e1f-98a3-4001-9b22-e1ea045e05a2",
   "metadata": {},
   "outputs": [
    {
     "name": "stderr",
     "output_type": "stream",
     "text": [
      "C:\\Users\\buse\\AppData\\Local\\Temp\\ipykernel_10996\\4120948585.py:1: SettingWithCopyWarning: \n",
      "A value is trying to be set on a copy of a slice from a DataFrame\n",
      "\n",
      "See the caveats in the documentation: https://pandas.pydata.org/pandas-docs/stable/user_guide/indexing.html#returning-a-view-versus-a-copy\n",
      "  table_veri[aykiri_veri]=alt_sinir\n"
     ]
    }
   ],
   "source": [
    "table_veri[aykiri_veri]=alt_sinir"
   ]
  },
  {
   "cell_type": "code",
   "execution_count": 73,
   "id": "ca948c1f-5343-49d3-8f48-770d6b185ca5",
   "metadata": {},
   "outputs": [
    {
     "data": {
      "text/plain": [
       "1515     51.5\n",
       "3238     51.5\n",
       "3979     51.5\n",
       "4150     51.5\n",
       "5979     51.5\n",
       "7418     51.5\n",
       "8853     51.5\n",
       "11368    51.5\n",
       "22701    51.5\n",
       "25179    51.5\n",
       "26387    51.5\n",
       "33586    51.5\n",
       "35633    51.5\n",
       "45798    51.5\n",
       "46040    51.5\n",
       "47630    51.5\n",
       "Name: table, dtype: float64"
      ]
     },
     "execution_count": 73,
     "metadata": {},
     "output_type": "execute_result"
    }
   ],
   "source": [
    "table_veri[aykiri_veri]"
   ]
  },
  {
   "cell_type": "code",
   "execution_count": null,
   "id": "e8b4f504-3d2a-4136-b600-4df97329e0ed",
   "metadata": {},
   "outputs": [],
   "source": []
  }
 ],
 "metadata": {
  "kernelspec": {
   "display_name": "Python 3 (ipykernel)",
   "language": "python",
   "name": "python3"
  },
  "language_info": {
   "codemirror_mode": {
    "name": "ipython",
    "version": 3
   },
   "file_extension": ".py",
   "mimetype": "text/x-python",
   "name": "python",
   "nbconvert_exporter": "python",
   "pygments_lexer": "ipython3",
   "version": "3.9.12"
  }
 },
 "nbformat": 4,
 "nbformat_minor": 5
}
